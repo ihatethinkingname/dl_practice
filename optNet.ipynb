{
  "nbformat": 4,
  "nbformat_minor": 0,
  "metadata": {
    "colab": {
      "provenance": [],
      "authorship_tag": "ABX9TyPP3NCbCKc6ZlL0n4+pZrDm",
      "include_colab_link": true
    },
    "kernelspec": {
      "name": "python3",
      "display_name": "Python 3"
    },
    "language_info": {
      "name": "python"
    }
  },
  "cells": [
    {
      "cell_type": "markdown",
      "metadata": {
        "id": "view-in-github",
        "colab_type": "text"
      },
      "source": [
        "<a href=\"https://colab.research.google.com/github/ihatethinkingname/dl_practice/blob/main/optNet.ipynb\" target=\"_parent\"><img src=\"https://colab.research.google.com/assets/colab-badge.svg\" alt=\"Open In Colab\"/></a>"
      ]
    },
    {
      "cell_type": "code",
      "source": [
        "# # Use comet for experiment management\n",
        "\n",
        "# !pip install comet_ml > /dev/null 2>&1\n",
        "# import comet_ml\n",
        "# from google.colab import userdata\n",
        "# COMET_API_KEY=userdata.get('comet_api_key')\n",
        "\n",
        "# # Create a Comet experiment to track our training run\n",
        "# def create_experiment(args):\n",
        "#   # End any prior experiments\n",
        "#   if 'experiment' in locals():\n",
        "#     experiment.end()\n",
        "\n",
        "#   # Initiate the comet experiment for tracking\n",
        "#   experiment = comet_ml.Experiment(\n",
        "#                   api_key=COMET_API_KEY,\n",
        "#                   project_name=\"sasrec_practice\")\n",
        "\n",
        "#   # Log our hyperparameters, defined above, to the experiment\n",
        "#   for param, value in vars(args).items():\n",
        "#     experiment.log_parameter(param, value)\n",
        "#   experiment.flush()\n",
        "\n",
        "#   return experiment"
      ],
      "metadata": {
        "id": "bA3i_NI2w3R0"
      },
      "execution_count": 15,
      "outputs": []
    },
    {
      "cell_type": "code",
      "source": [
        "import torch\n",
        "import torch.nn as nn\n",
        "import torch.optim as optim\n",
        "import torchvision\n",
        "import torchvision.transforms as transforms\n",
        "import matplotlib.pyplot as plt\n",
        "import time\n",
        "from IPython import display as ipythondisplay"
      ],
      "metadata": {
        "id": "yidvhKdV0HXK"
      },
      "execution_count": 16,
      "outputs": []
    },
    {
      "cell_type": "code",
      "source": [
        "class PeriodicPlotter:\n",
        "  def __init__(self, sec, xlabel=\"\", ylabel=\"\", scale=None):\n",
        "    self.xlabel = xlabel\n",
        "    self.ylabel = ylabel\n",
        "    self.sec = sec\n",
        "    self.scale = scale\n",
        "\n",
        "    self.tic = time.time()\n",
        "\n",
        "  def plot(self, data):\n",
        "    if time.time() - self.tic > self.sec:\n",
        "      plt.cla()\n",
        "\n",
        "      if self.scale is None:\n",
        "          plt.plot(data)\n",
        "      elif self.scale == \"semilogx\":\n",
        "          plt.semilogx(data)\n",
        "      elif self.scale == \"semilogy\":\n",
        "          plt.semilogy(data)\n",
        "      elif self.scale == \"loglog\":\n",
        "          plt.loglog(data)\n",
        "      else:\n",
        "          raise ValueError(\"unrecognized parameter scale {}\".format(self.scale))\n",
        "\n",
        "      plt.xlabel(self.xlabel)\n",
        "      plt.ylabel(self.ylabel)\n",
        "      ipythondisplay.clear_output(wait=True)\n",
        "      ipythondisplay.display(plt.gcf())\n",
        "\n",
        "      self.tic = time.time()"
      ],
      "metadata": {
        "id": "a0nKfTxp0D-3"
      },
      "execution_count": 17,
      "outputs": []
    },
    {
      "cell_type": "code",
      "execution_count": 14,
      "metadata": {
        "colab": {
          "base_uri": "https://localhost:8080/",
          "height": 489
        },
        "id": "rmOk2FqFteL0",
        "outputId": "4782ad09-8181-4032-9978-16446352133a"
      },
      "outputs": [
        {
          "output_type": "display_data",
          "data": {
            "text/plain": [
              "<Figure size 640x480 with 1 Axes>"
            ],
            "image/png": "[encoded data removed]"
          },
          "metadata": {}
        },
        {
          "output_type": "stream",
          "name": "stdout",
          "text": [
            "Epoch 3, Loss: 0.1463\n",
            "Accuracy on test set: 96.11%\n"
          ]
        }
      ],
      "source": [
        "# 1. 数据准备\n",
        "transform = transforms.Compose([transforms.ToTensor(), transforms.Normalize((0.5,), (0.5,))])\n",
        "trainset = torchvision.datasets.MNIST(root='./data', train=True, download=True, transform=transform)\n",
        "testset = torchvision.datasets.MNIST(root='./data', train=False, download=True, transform=transform)\n",
        "\n",
        "trainloader = torch.utils.data.DataLoader(trainset, batch_size=64, shuffle=True)\n",
        "testloader = torch.utils.data.DataLoader(testset, batch_size=1000, shuffle=False)\n",
        "\n",
        "# 2. 定义一个简单的神经网络\n",
        "class SimpleNN(nn.Module):\n",
        "  def __init__(self):\n",
        "    super(SimpleNN, self).__init__()\n",
        "    self.flatten = nn.Flatten()\n",
        "    self.fc1 = nn.Linear(28*28, 128)\n",
        "    self.relu = nn.ReLU()\n",
        "    self.fc2 = nn.Linear(128, 10)\n",
        "\n",
        "  def forward(self, x):\n",
        "    x = self.flatten(x)\n",
        "    x = self.relu(self.fc1(x))\n",
        "    x = self.fc2(x)\n",
        "    return x\n",
        "\n",
        "class sgdNN(nn.Module):\n",
        "  def __init__(self,model):\n",
        "    super.__init__()\n",
        "    self.n=sum(p for p in model.parameters())\n",
        "    self.n2n=nn.Linear(self.n,self.n)\n",
        "    nn.init.constant_(self.n2n.weight, 1.0)\n",
        "\n",
        "  def step(self,model):\n",
        "    x=torch.tensor([param.grad for param in model.parameters()])\n",
        "    with torch.no_grad():\n",
        "      for param in model.parameters():\n",
        "        param -= lr * self.n2n(x)\n",
        "    model.zero_grad\n",
        "\n",
        "layerParamList=[1.0,1.0]\n",
        "\n",
        "model = SimpleNN()\n",
        "\n",
        "# 3. 定义损失函数和优化器\n",
        "criterion = nn.CrossEntropyLoss()\n",
        "# optimizer = optim.Adam(model.parameters(), lr=0.001)\n",
        "model_lr=1e-4\n",
        "opt_lr=1e-6\n",
        "\n",
        "# 4. 训练模型\n",
        "epochs = 3\n",
        "plotter = PeriodicPlotter(sec=2, xlabel='Iterations', ylabel='Loss')\n",
        "loss_history=[]\n",
        "for epoch in range(epochs):\n",
        "  model.train()\n",
        "  running_loss=0.0\n",
        "  for images, labels in trainloader:\n",
        "    # optimizer.zero_grad()\n",
        "    outputs = model(images)\n",
        "    loss = criterion(outputs, labels)\n",
        "    loss.backward()\n",
        "    # optimizer.step()\n",
        "    with torch.no_grad():\n",
        "      i=0\n",
        "      for param in model.parameters():\n",
        "        print(i)\n",
        "        param-=model_lr*param.grad*layerParamList[i]\n",
        "        layerParamList[i]-=\n",
        "        i++\n",
        "\n",
        "    running_loss += loss.item()\n",
        "    loss_history.append(loss.item())\n",
        "    plotter.plot(loss_history)\n",
        "\n",
        "  avg_loss = running_loss / len(trainloader)\n",
        "  print(f\"Epoch {epoch+1}, Loss: {avg_loss:.4f}\")\n",
        "\n",
        "# 5. 测试模型\n",
        "model.eval()\n",
        "correct, total = 0, 0\n",
        "with torch.no_grad():\n",
        "    for images, labels in testloader:\n",
        "        outputs = model(images)\n",
        "        _, predicted = torch.max(outputs, 1)\n",
        "        total += labels.size(0)\n",
        "        correct += (predicted == labels).sum().item()\n",
        "\n",
        "print(f\"Accuracy on test set: {100 * correct / total:.2f}%\")\n"
      ]
    }
  ]
}