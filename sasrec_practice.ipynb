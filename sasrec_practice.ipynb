{
  "nbformat": 4,
  "nbformat_minor": 0,
  "metadata": {
    "colab": {
      "provenance": [],
      "authorship_tag": "ABX9TyP4ZaCoZlso1iHtD055fxqQ",
      "include_colab_link": true
    },
    "kernelspec": {
      "name": "python3",
      "display_name": "Python 3"
    },
    "language_info": {
      "name": "python"
    }
  },
  "cells": [
    {
      "cell_type": "markdown",
      "metadata": {
        "id": "view-in-github",
        "colab_type": "text"
      },
      "source": [
        "<a href=\"https://colab.research.google.com/github/ihatethinkingname/dl_practice/blob/main/sasrec_practice.ipynb\" target=\"_parent\"><img src=\"https://colab.research.google.com/assets/colab-badge.svg\" alt=\"Open In Colab\"/></a>"
      ]
    },
    {
      "cell_type": "code",
      "execution_count": null,
      "metadata": {
        "id": "ivaiiurKZqRz"
      },
      "outputs": [],
      "source": [
        "import torch\n",
        "import torch.nn as nn\n",
        "import torch.nn.functional as F\n",
        "import numpy as np\n",
        "\n",
        "\n",
        "import copy\n",
        "# class SASRec(nn.Module):\n",
        "#   def __init__(self, item_num) -> None:\n",
        "#     super().__init__()\n",
        "\n",
        "class EnD(nn.Module):\n",
        "  def __init__(self,src_embed,encoder,decoder,tgt_embed,generator):\n",
        "    super().__init__()\n",
        "\n",
        "    self.encoder=encoder\n",
        "    self.decoder=decoder\n",
        "    self.src_embed=src_embed\n",
        "    self.tgt_embed=tgt_embed\n",
        "    self.generator=generator\n",
        "\n",
        "  def forward(self,src,tgt,src_mask,tgt_mask):\n",
        "    return EnDcoder(EnDcoder(src,src_mask),src_mask,tgt,tgt_mask)\n",
        "\n",
        "  def encode(self,src,src_mask):\n",
        "    return EnDcoder(self.src_embed(src),src_mask)\n",
        "\n",
        "  def decode(self,memory,src_mask,tgt,tgt_mask):\n",
        "    return EnDcoder(memory,src_mask,self.tgt_embed(tgt),tgt_mask)\n",
        "\n",
        "class Generator(nn.Module):\n",
        "  def __init__(self,d_model,vocab_size):\n",
        "    super().__init__()\n",
        "    self.proj=nn.Linear(d_model,vocab_size)\n",
        "\n",
        "  def forward(self,x):\n",
        "    return F.log_softmax(self.proj(x),dim=-1)\n",
        "\n",
        "class EnDcoder(nn.Module):\n",
        "  def __init__(self,layer,N):\n",
        "    super().__init__()\n",
        "    self.layers=clone(layer,N)\n",
        "    self.norm=nn.LayerNorm(layer.d_model)\n",
        "\n",
        "  def forward(self,x,src_mask,tgt=None,tgt_mask=None):\n",
        "    # Encoder model\n",
        "    if tgt==tgt_mask==None:\n",
        "      for layer in self.layers:\n",
        "        x=layer(x,src_mask)\n",
        "      return self.norm(x)\n",
        "\n",
        "    # Decoder model\n",
        "    elif tgt is not None and tgt_mask is not None:\n",
        "      for layer in self.layers:\n",
        "        x=layer(x,src_mask,tgt,tgt_mask)\n",
        "      return self.norm(x)\n",
        "\n",
        "    # Wrong input\n",
        "    else:\n",
        "      raise ValueError(\"Encoder instance input error: \"\\\n",
        "               \"tgt and tgt_mask should be both None or both not None.\")\n",
        "\n",
        "def clone(layer,N):\n",
        "  return nn.ModuleList([copy.deepcopy(layer) for _ in range(N)])\n",
        "\n",
        "class EnDcoderLayer(nn.module):\n",
        "  def __init__(self,)"
      ]
    },
    {
      "cell_type": "code",
      "source": [
        "for i in range(2):\n",
        "  print(\"a\"\\\n",
        "      \"b\")"
      ],
      "metadata": {
        "id": "qubsV_w0Gn9a",
        "outputId": "a53e049d-429a-45ed-a30e-3527c9d87031",
        "colab": {
          "base_uri": "https://localhost:8080/"
        }
      },
      "execution_count": 5,
      "outputs": [
        {
          "output_type": "stream",
          "name": "stdout",
          "text": [
            "ab\n",
            "ab\n"
          ]
        }
      ]
    }
  ]
}